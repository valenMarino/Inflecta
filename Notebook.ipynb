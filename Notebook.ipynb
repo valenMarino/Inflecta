{
 "cells": [
  {
   "cell_type": "markdown",
   "id": "0729193b",
   "metadata": {},
   "source": [
    "# 1. Instalar e Importar Librerías Necesarias\n",
    "\n",
    "En esta sección instalaremos e importaremos todas las librerías necesarias para el procesamiento de PDFs, vectorización, tokenización y uso de modelos ligeros multilenguaje compatibles con Ollama."
   ]
  },
  {
   "cell_type": "code",
   "execution_count": null,
   "id": "ede5948c",
   "metadata": {},
   "outputs": [],
   "source": [
    "# Instalar librerías necesarias\n",
    "%pip install PyPDF2 sentence-transformers langchain faiss-cpu pdf2image pytesseract pillow opencv-python\n",
    "\n",
    "# Importar librerías\n",
    "import os\n",
    "import subprocess\n",
    "from pdf2image import convert_from_path\n",
    "import pytesseract\n",
    "from sentence_transformers import SentenceTransformer\n",
    "import numpy as np\n",
    "import faiss\n",
    "import pickle\n",
    "import cv2\n",
    "from PIL import Image\n",
    "from pathlib import Path\n"
   ]
  },
  {
   "cell_type": "markdown",
   "id": "9b479d46",
   "metadata": {},
   "source": [
    "# 2. Configuración y seteo de binarios\n",
    "\n",
    "En esta sección construiremos todas las configuraciones necesarias, path a binario y demás"
   ]
  },
  {
   "cell_type": "code",
   "execution_count": null,
   "id": "963fc5a0",
   "metadata": {},
   "outputs": [],
   "source": [
    "\n",
    "BASE_DIR = Path().resolve()\n",
    "PDF_FOLDER = os.path.join(BASE_DIR, \"pdfs\")\n",
    "print(f\"PDF_FOLDER: {PDF_FOLDER}\")\n",
    "\n",
    "INDEX_PATH = os.path.join(BASE_DIR, \"faiss_index.bin\")\n",
    "CHUNKS_PATH = os.path.join(BASE_DIR, \"chunks.pkl\")\n",
    "EMBEDDINGS_PATH = os.path.join(BASE_DIR, \"embeddings.npy\")\n",
    "OUTPUT_FOLDER = os.path.join(BASE_DIR, \"ocr_textos\")\n",
    "\n",
    "\n",
    "#tesseract\n",
    "tesseract_cmd = os.path.join(os.getcwd(), \"tesseract\", \"tesseract.exe\")\n",
    "pytesseract.pytesseract.tesseract_cmd = tesseract_cmd\n",
    "\n",
    "#poppler\n",
    "poppler_path = os.path.join(os.getcwd(), \"poppler\", \"bin\")\n",
    "\n",
    "required_bins = [\"pdfinfo.exe\", \"pdftoppm.exe\"]\n",
    "for b in required_bins:\n",
    "    if not os.path.exists(os.path.join(poppler_path, b)):\n",
    "        raise FileNotFoundError(f\"No se encontró {b} en {poppler_path}\")"
   ]
  },
  {
   "cell_type": "markdown",
   "id": "97a27aef",
   "metadata": {},
   "source": [
    "# 3. Cargar modelo multilenguaje\n",
    "\n",
    "En esta sección se carga un modelo para realizar los embeddings. Debe ser el mismo con el cual se lee después"
   ]
  },
  {
   "cell_type": "code",
   "execution_count": null,
   "id": "82db3589",
   "metadata": {},
   "outputs": [],
   "source": [
    "model_name = \"paraphrase-multilingual-mpnet-base-v2\"\n",
    "embedder = SentenceTransformer(model_name)"
   ]
  },
  {
   "cell_type": "markdown",
   "id": "a7e458a4",
   "metadata": {},
   "source": [
    "# 4. Función para mejorar el contraste de los pdf\n",
    "\n",
    "En esta sección se mejora el pdf, realzando el contraste para mejorar la identificación del texto"
   ]
  },
  {
   "cell_type": "code",
   "execution_count": null,
   "id": "26afdb8f",
   "metadata": {},
   "outputs": [],
   "source": [
    "def preprocess_image(pil_image):\n",
    "    cv_image = np.array(pil_image)\n",
    "    cv_image = cv2.cvtColor(cv_image, cv2.COLOR_RGB2GRAY)\n",
    "    # Aplicar umbral para mejorar contraste\n",
    "    _, thresh = cv2.threshold(cv_image, 180, 255, cv2.THRESH_BINARY)\n",
    "    return Image.fromarray(thresh)"
   ]
  },
  {
   "cell_type": "markdown",
   "id": "55eabef1",
   "metadata": {},
   "source": [
    "# 5. Función OCR de imágenes dentro del pdf\n",
    "\n",
    "En esta sección se revisan si hay imagenes en pdf para extraer texto"
   ]
  },
  {
   "cell_type": "code",
   "execution_count": null,
   "id": "25513794",
   "metadata": {},
   "outputs": [],
   "source": [
    "def extract_text_from_image_pdf(pdf_file, psm=6):\n",
    "    pages = convert_from_path(pdf_file, dpi=300, poppler_path=poppler_path)\n",
    "    all_chunks = []\n",
    "\n",
    "    pdf_name = os.path.splitext(os.path.basename(pdf_file))[0]\n",
    "    txt_output = os.path.join(OUTPUT_FOLDER, f\"{pdf_name}ocr.txt\")\n",
    "\n",
    "    with open(txt_output, \"w\", encoding=\"utf-8\") as f:\n",
    "        f.write(f\"========== OCR de {os.path.basename(pdf_file)} ==========\\n\")\n",
    "\n",
    "        for i, page in enumerate(pages):\n",
    "            processed_page = preprocess_image(page)\n",
    "            text = pytesseract.image_to_string(processed_page, lang='spa', config=f'--psm {psm}').strip()\n",
    "\n",
    "            f.write(f\"\\n--- Página {i + 1} ---\\n\")\n",
    "            if text:\n",
    "                f.write(text + \"\\n\")\n",
    "                words = text.split()\n",
    "                page_chunks = [' '.join(words[j:j + 200]) for j in range(0, len(words), 200)]\n",
    "                all_chunks.extend(page_chunks)\n",
    "                print(f\"📄 {os.path.basename(pdf_file)} - Página {i + 1}: {len(words)} palabras extraídas\")\n",
    "            else:\n",
    "                f.write(\"[Sin texto detectado]\\n\")\n",
    "                print(f\"⚠️ {os.path.basename(pdf_file)} - Página {i + 1}: sin texto detectado\")\n",
    "\n",
    "    print(f\"📝 Texto OCR guardado en: {txt_output}\")\n",
    "    return all_chunks\n"
   ]
  },
  {
   "cell_type": "markdown",
   "id": "c08b0cba",
   "metadata": {},
   "source": [
    "# 6. Procesamos todos los pdfs\n",
    "\n",
    "En esta sección se recolentan los pdfs y se procesan"
   ]
  },
  {
   "cell_type": "code",
   "execution_count": null,
   "id": "3c31a0d0",
   "metadata": {},
   "outputs": [],
   "source": [
    "pdf_files = [os.path.join(PDF_FOLDER, f) for f in os.listdir(PDF_FOLDER) if f.lower().endswith('.pdf')]\n",
    "\n",
    "all_chunks = []\n",
    "for pdf_file in pdf_files:\n",
    "    chunks = extract_text_from_image_pdf(pdf_file)\n",
    "    print(f\"{os.path.basename(pdf_file)} -> {len(chunks)} chunks generados\\n\")\n",
    "    all_chunks.extend(chunks)\n",
    "\n",
    "print(f\"📦 Total de chunks generados: {len(all_chunks)}\")\n",
    "print(f\"📁 Archivos OCR guardados en: {OUTPUT_FOLDER}\")"
   ]
  },
  {
   "cell_type": "markdown",
   "id": "bb1cb8e8",
   "metadata": {},
   "source": [
    "# 7. Generación de embeddings\n",
    "\n",
    "En esta sección se generan los embeddings"
   ]
  },
  {
   "cell_type": "code",
   "execution_count": null,
   "id": "2a92f9d4",
   "metadata": {},
   "outputs": [],
   "source": [
    "if len(all_chunks) == 0:\n",
    "    raise ValueError(\"No se generaron chunks. Revisa los PDFs y el OCR.\")\n",
    "\n",
    "embeddings = embedder.encode(all_chunks, show_progress_bar=True, convert_to_numpy=True)\n",
    "print(f\"Se generaron {embeddings.shape[0]} vectores.\")\n"
   ]
  },
  {
   "cell_type": "markdown",
   "id": "f8d1f5d8",
   "metadata": {},
   "source": [
    "# 8. Creamos el indice FAISS\n",
    "\n",
    "En esta sección se crea el indice FAISS (basicamente es para manipular mejor los vectores, obtenerlos eficientemente bla bla)"
   ]
  },
  {
   "cell_type": "code",
   "execution_count": null,
   "id": "3e5adf05",
   "metadata": {},
   "outputs": [],
   "source": [
    "dimension = embeddings.shape[1]\n",
    "index = faiss.IndexFlatL2(dimension)\n",
    "index.add(embeddings)\n",
    "print(f\"Índice FAISS creado con {index.ntotal} vectores.\")"
   ]
  },
  {
   "cell_type": "markdown",
   "id": "bdad00e7",
   "metadata": {},
   "source": [
    "# 9. Guardamos indices y datos\n",
    "\n",
    "En esta sección se guardan los indices"
   ]
  },
  {
   "cell_type": "code",
   "execution_count": null,
   "id": "7b75fadb",
   "metadata": {},
   "outputs": [],
   "source": [
    "faiss.write_index(index, INDEX_PATH)\n",
    "np.save(EMBEDDINGS_PATH, embeddings)\n",
    "with open(CHUNKS_PATH, \"wb\") as f:\n",
    "    pickle.dump(all_chunks, f)\n",
    "print(\"FAISS index, embeddings y chunks guardados correctamente.\")"
   ]
  },
  {
   "cell_type": "markdown",
   "id": "47330fd2",
   "metadata": {},
   "source": [
    "# 10. Revisamos cuantos chunks se crearon\n",
    "\n",
    "En esta sección revisamos cuantos chunks se crearon"
   ]
  },
  {
   "cell_type": "code",
   "execution_count": null,
   "id": "37b6f539",
   "metadata": {},
   "outputs": [],
   "source": [
    "with open(CHUNKS_PATH, \"rb\") as f:\n",
    "    loaded_chunks = pickle.load(f)\n",
    "print(f\"Número de chunks cargados: {len(loaded_chunks)}\")\n",
    "print(\"Ejemplo de chunk:\", loaded_chunks[0][:200], \"...\")"
   ]
  }
 ],
 "metadata": {
  "kernelspec": {
   "display_name": ".venv",
   "language": "python",
   "name": "python3"
  },
  "language_info": {
   "codemirror_mode": {
    "name": "ipython",
    "version": 3
   },
   "file_extension": ".py",
   "mimetype": "text/x-python",
   "name": "python",
   "nbconvert_exporter": "python",
   "pygments_lexer": "ipython3",
   "version": "3.11.9"
  }
 },
 "nbformat": 4,
 "nbformat_minor": 5
}
