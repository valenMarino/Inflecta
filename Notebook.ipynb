{
 "cells": [
  {
   "cell_type": "markdown",
   "id": "0729193b",
   "metadata": {},
   "source": [
    "# 1. Instalar e Importar Librerías Necesarias\n",
    "\n",
    "En esta sección instalaremos e importaremos todas las librerías necesarias para el procesamiento de PDFs, vectorización, tokenización y uso de modelos ligeros multilenguaje compatibles con Ollama."
   ]
  },
  {
   "cell_type": "code",
   "execution_count": null,
   "id": "ede5948c",
   "metadata": {},
   "outputs": [],
   "source": [
    "# Instalar librerías necesarias\n",
    "!pip install PyPDF2 sentence-transformers langchain faiss-cpu pdf2image pytesseract pillow ollama\n",
    "\n",
    "# Importar librerías\n",
    "import os\n",
    "import subprocess\n",
    "from pdf2image import convert_from_path\n",
    "import pytesseract\n",
    "from sentence_transformers import SentenceTransformer\n",
    "import numpy as np\n",
    "import faiss\n",
    "import pickle"
   ]
  },
  {
   "cell_type": "markdown",
   "id": "9b479d46",
   "metadata": {},
   "source": [
    "# 2. Configuración y seteo de binarios\n",
    "\n",
    "En esta sección construiremos todas las configuraciones necesarias, path a binario y demás"
   ]
  },
  {
   "cell_type": "code",
   "execution_count": null,
   "id": "963fc5a0",
   "metadata": {},
   "outputs": [],
   "source": [
    "# -------------------------------\n",
    "# Configuración\n",
    "# -------------------------------\n",
    "pdf_folder = \"C:/Users/Usuario/Desktop/cursos_repos/rag-finetunning/pdfs\"\n",
    "BASE_DIR = \"C:/Users/Usuario/Desktop/cursos_repos/rag-finetunning\"\n",
    "INDEX_PATH = os.path.join(BASE_DIR, \"faiss_index.bin\")\n",
    "CHUNKS_PATH = os.path.join(BASE_DIR, \"chunks.pkl\")\n",
    "EMBEDDINGS_PATH = os.path.join(BASE_DIR, \"embeddings.npy\")\n",
    "\n",
    "#tesseract\n",
    "tesseract_cmd = os.path.join(os.getcwd(), \"tesseract\", \"tesseract.exe\")\n",
    "pytesseract.pytesseract.tesseract_cmd = tesseract_cmd\n",
    "\n",
    "#poppler\n",
    "poppler_path = os.path.join(os.getcwd(), \"poppler\", \"bin\")\n",
    "\n",
    "# Verificar que los binarios existen\n",
    "required_bins = [\"pdfinfo.exe\", \"pdftoppm.exe\"]\n",
    "for b in required_bins:\n",
    "    if not os.path.exists(os.path.join(poppler_path, b)):\n",
    "        raise FileNotFoundError(f\"No se encontró {b} en {poppler_path}\")"
   ]
  },
  {
   "cell_type": "markdown",
   "id": "97a27aef",
   "metadata": {},
   "source": [
    "# 3. Cargar modelo multilenguaje\n",
    "\n",
    "En esta sección se carga un modelo para realizar los embeddings. Debe ser el mismo con el cual se lee después"
   ]
  },
  {
   "cell_type": "code",
   "execution_count": null,
   "id": "82db3589",
   "metadata": {},
   "outputs": [],
   "source": [
    "# Cargar modelo multilenguaje ligero\n",
    "model_name = \"sentence-transformers/distiluse-base-multilingual-cased-v2\"\n",
    "embedder = SentenceTransformer(model_name)"
   ]
  },
  {
   "cell_type": "markdown",
   "id": "55eabef1",
   "metadata": {},
   "source": [
    "# 3. Función OCR de imágenes dentro del pdf\n",
    "\n",
    "En esta sección se revisan si hay imagenes en pdf para extraer texto"
   ]
  },
  {
   "cell_type": "code",
   "execution_count": null,
   "id": "25513794",
   "metadata": {},
   "outputs": [],
   "source": [
    "# -------------------------------\n",
    "# Función OCR para PDFs de imágenes\n",
    "# -------------------------------\n",
    "def extract_text_from_image_pdf(pdf_file, psm=6):\n",
    "    pages = convert_from_path(pdf_file, poppler_path=poppler_path)\n",
    "    all_chunks = []\n",
    "    for i, page in enumerate(pages):\n",
    "        text = pytesseract.image_to_string(page, lang='eng+spa', config=f'--psm {psm}').strip()\n",
    "        if text:\n",
    "            # Dividir cada página en chunks más pequeños\n",
    "            words = text.split()\n",
    "            page_chunks = [' '.join(words[j:j+200]) for j in range(0, len(words), 200)]\n",
    "            all_chunks.extend(page_chunks)\n",
    "    return all_chunks"
   ]
  },
  {
   "cell_type": "markdown",
   "id": "c5d3f05d",
   "metadata": {},
   "source": [
    "# 4. Check de páginas detectadas"
   ]
  },
  {
   "cell_type": "code",
   "execution_count": null,
   "id": "e9a8ef89",
   "metadata": {},
   "outputs": [],
   "source": [
    "pdf_file = os.path.join(pdf_folder, \"MS-15B1_v1.0_English.pdf\")\n",
    "pages = convert_from_path(pdf_file, poppler_path=poppler_path)\n",
    "print(\"Páginas detectadas:\", len(pages))"
   ]
  },
  {
   "cell_type": "markdown",
   "id": "c08b0cba",
   "metadata": {},
   "source": [
    "# 5. Procesamos todos los pdfs\n",
    "\n",
    "En esta sección se recolentan los pdfs y se procesan"
   ]
  },
  {
   "cell_type": "code",
   "execution_count": null,
   "id": "3c31a0d0",
   "metadata": {},
   "outputs": [],
   "source": [
    "# -------------------------------\n",
    "# Procesar todos los PDFs\n",
    "# -------------------------------\n",
    "pdf_files = [os.path.join(pdf_folder, f) for f in os.listdir(pdf_folder) if f.lower().endswith('.pdf')]\n",
    "\n",
    "all_chunks = []\n",
    "for pdf_file in pdf_files:\n",
    "    chunks = extract_text_from_image_pdf(pdf_file)\n",
    "    print(f\"{os.path.basename(pdf_file)} -> {len(chunks)} chunks\")\n",
    "    all_chunks.extend(chunks)\n",
    "\n",
    "print(f\"Total de chunks generados: {len(all_chunks)}\")"
   ]
  },
  {
   "cell_type": "markdown",
   "id": "bb1cb8e8",
   "metadata": {},
   "source": [
    "# 6. Generación de embeddings\n",
    "\n",
    "En esta sección se generan los embeddings"
   ]
  },
  {
   "cell_type": "code",
   "execution_count": null,
   "id": "2a92f9d4",
   "metadata": {},
   "outputs": [],
   "source": [
    "# -------------------------------\n",
    "# Generar embeddings\n",
    "# -------------------------------\n",
    "if len(all_chunks) == 0:\n",
    "    raise ValueError(\"No se generaron chunks. Revisa los PDFs y el OCR.\")\n",
    "\n",
    "embeddings = embedder.encode(all_chunks, show_progress_bar=True, convert_to_numpy=True)\n",
    "print(f\"Se generaron {embeddings.shape[0]} vectores.\")\n"
   ]
  },
  {
   "cell_type": "markdown",
   "id": "f8d1f5d8",
   "metadata": {},
   "source": [
    "# 7. Creamos el indice FAISS\n",
    "\n",
    "En esta sección se crea el indice FAISS (basicamente es para manipular mejor los vectores, obtenerlos eficientemente bla bla)"
   ]
  },
  {
   "cell_type": "code",
   "execution_count": null,
   "id": "3e5adf05",
   "metadata": {},
   "outputs": [],
   "source": [
    "# -------------------------------\n",
    "# Crear índice FAISS\n",
    "# -------------------------------\n",
    "dimension = embeddings.shape[1]\n",
    "index = faiss.IndexFlatL2(dimension)\n",
    "index.add(embeddings)\n",
    "print(f\"Índice FAISS creado con {index.ntotal} vectores.\")"
   ]
  },
  {
   "cell_type": "markdown",
   "id": "bdad00e7",
   "metadata": {},
   "source": [
    "# 8. Guardamos indices y datos\n",
    "\n",
    "En esta sección se guardan los indices"
   ]
  },
  {
   "cell_type": "code",
   "execution_count": null,
   "id": "7b75fadb",
   "metadata": {},
   "outputs": [],
   "source": [
    "# -------------------------------\n",
    "# Guardar índice y datos\n",
    "# -------------------------------\n",
    "faiss.write_index(index, INDEX_PATH)\n",
    "np.save(EMBEDDINGS_PATH, embeddings)\n",
    "with open(CHUNKS_PATH, \"wb\") as f:\n",
    "    pickle.dump(all_chunks, f)\n",
    "print(\"FAISS index, embeddings y chunks guardados correctamente.\")"
   ]
  },
  {
   "cell_type": "markdown",
   "id": "d05476a4",
   "metadata": {},
   "source": [
    "# 9. Pulling de modelo ollama\n",
    "\n",
    "En esta sección cargamos el modelo de ollama"
   ]
  },
  {
   "cell_type": "code",
   "execution_count": null,
   "id": "1ad4f83f",
   "metadata": {},
   "outputs": [],
   "source": [
    "# -------------------------------\n",
    "# Función para usar ollama\n",
    "# -------------------------------\n",
    "def ollama_pull(model_name=\"phi\"):\n",
    "    result = subprocess.run(\n",
    "        [\"ollama\", \"pull\", model_name],\n",
    "        capture_output=True,\n",
    "        text=True,\n",
    "        encoding=\"utf-8\",   \n",
    "        errors=\"replace\"    \n",
    "    )\n",
    "    print(result.stdout)\n",
    "\n",
    "ollama_pull(\"phi\")"
   ]
  },
  {
   "cell_type": "markdown",
   "id": "47330fd2",
   "metadata": {},
   "source": [
    "# 10. Revisamos cuantos chunks se crearon\n",
    "\n",
    "En esta sección revisamos cuantos chunks se crearon"
   ]
  },
  {
   "cell_type": "code",
   "execution_count": 75,
   "id": "37b6f539",
   "metadata": {},
   "outputs": [
    {
     "name": "stdout",
     "output_type": "stream",
     "text": [
      "Número de chunks cargados: 71\n",
      "Ejemplo de chunk: EL | USER GUIDE ...\n"
     ]
    }
   ],
   "source": [
    "# -------------------------------\n",
    "# Verificación final\n",
    "# -------------------------------\n",
    "with open(CHUNKS_PATH, \"rb\") as f:\n",
    "    loaded_chunks = pickle.load(f)\n",
    "print(f\"Número de chunks cargados: {len(loaded_chunks)}\")\n",
    "print(\"Ejemplo de chunk:\", loaded_chunks[0][:200], \"...\")"
   ]
  }
 ],
 "metadata": {
  "kernelspec": {
   "display_name": ".venv",
   "language": "python",
   "name": "python3"
  },
  "language_info": {
   "codemirror_mode": {
    "name": "ipython",
    "version": 3
   },
   "file_extension": ".py",
   "mimetype": "text/x-python",
   "name": "python",
   "nbconvert_exporter": "python",
   "pygments_lexer": "ipython3",
   "version": "3.11.9"
  }
 },
 "nbformat": 4,
 "nbformat_minor": 5
}
