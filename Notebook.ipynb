{
 "cells": [
  {
   "cell_type": "markdown",
   "id": "0729193b",
   "metadata": {},
   "source": [
    "# 1. Instalar e Importar Librerías Necesarias\n",
    "\n",
    "En esta sección instalaremos e importaremos todas las librerías necesarias para el procesamiento de PDFs, vectorización, tokenización y uso de modelos ligeros multilenguaje compatibles con Ollama."
   ]
  },
  {
   "cell_type": "code",
   "execution_count": null,
   "id": "ede5948c",
   "metadata": {},
   "outputs": [],
   "source": [
    "# Instalar librerías necesarias\n",
    "!pip install PyPDF2 sentence-transformers langchain faiss-cpu ollama\n",
    "\n",
    "# Importar librerías\n",
    "import os\n",
    "from PyPDF2 import PdfReader\n",
    "from sentence_transformers import SentenceTransformer\n",
    "import numpy as np\n",
    "import faiss\n",
    "import pickle"
   ]
  },
  {
   "cell_type": "markdown",
   "id": "e0d505a5",
   "metadata": {},
   "source": [
    "# 2. Cargar y Leer Múltiples PDFs\n",
    "\n",
    "Esta sección permite seleccionar y leer múltiples archivos PDF desde una carpeta, extrayendo el texto de cada uno sin límite de cantidad."
   ]
  },
  {
   "cell_type": "code",
   "execution_count": null,
   "id": "963fc5a0",
   "metadata": {},
   "outputs": [],
   "source": [
    "# Definir la carpeta donde están los PDFs\n",
    "pdf_folder = \"c:/Users/TZ002NB/Desktop/rag-fine-tunning/pdfs\"\n",
    "\n",
    "# Obtener la lista de archivos PDF\n",
    "pdf_files = [os.path.join(pdf_folder, f) for f in os.listdir(pdf_folder) if f.lower().endswith('.pdf')]\n",
    "\n",
    "# Extraer texto de todos los PDFs\n",
    "def extract_text_from_pdfs(pdf_files):\n",
    "    all_texts = []\n",
    "    for pdf_file in pdf_files:\n",
    "        reader = PdfReader(pdf_file)\n",
    "        text = \"\"\n",
    "        for page in reader.pages:\n",
    "            text += page.extract_text() or \"\"\n",
    "        all_texts.append(text)\n",
    "    return all_texts\n",
    "\n",
    "pdf_texts = extract_text_from_pdfs(pdf_files)\n",
    "print(f\"Se extrajo texto de {len(pdf_texts)} archivos PDF.\")"
   ]
  },
  {
   "cell_type": "markdown",
   "id": "73b84bb8",
   "metadata": {},
   "source": [
    "# 3. Tokenizar y Vectorizar el Texto Extraído\n",
    "\n",
    "Utilizaremos un modelo multilenguaje ligero de `sentence-transformers` para tokenizar y vectorizar el texto extraído de los PDFs."
   ]
  },
  {
   "cell_type": "code",
   "execution_count": null,
   "id": "12e3013b",
   "metadata": {},
   "outputs": [],
   "source": [
    "# Cargar modelo multilenguaje ligero\n",
    "model_name = \"sentence-transformers/distiluse-base-multilingual-cased-v2\"\n",
    "embedder = SentenceTransformer(model_name)\n",
    "\n",
    "# Vectorizar los textos (puedes dividir en chunks si los textos son muy largos)\n",
    "def chunk_text(text, max_length=512):\n",
    "    # Divide el texto en fragmentos de longitud máxima\n",
    "    words = text.split()\n",
    "    return [' '.join(words[i:i+max_length]) for i in range(0, len(words), max_length)]\n",
    "\n",
    "all_chunks = []\n",
    "for doc in pdf_texts:\n",
    "    all_chunks.extend(chunk_text(doc))\n",
    "\n",
    "# Obtener los vectores\n",
    "embeddings = embedder.encode(all_chunks, show_progress_bar=True, convert_to_numpy=True)\n",
    "print(f\"Se generaron {embeddings.shape[0]} vectores.\")"
   ]
  },
  {
   "cell_type": "markdown",
   "id": "dedf8885",
   "metadata": {},
   "source": [
    "# 4. Cargar un Modelo Multilenguaje Ligero Compatible con Ollama\n",
    "\n",
    "En esta sección se muestra cómo cargar un modelo multilenguaje ligero que pueda ejecutarse localmente y sea compatible con Ollama."
   ]
  },
  {
   "cell_type": "code",
   "execution_count": null,
   "id": "94dcb602",
   "metadata": {},
   "outputs": [],
   "source": [
    "# Ejemplo de carga de modelo con Ollama (requiere tener Ollama instalado y corriendo)\n",
    "# Puedes usar modelos ligeros como 'llama2', 'mistral', 'phi', etc.\n",
    "\n",
    "import subprocess\n",
    "\n",
    "def ollama_pull(model_name=\"phi\"):\n",
    "    result = subprocess.run([\"ollama\", \"pull\", model_name], capture_output=True, text=True)\n",
    "    print(result.stdout)\n",
    "\n",
    "# Descargar modelo ligero (ejemplo: phi)\n",
    "ollama_pull(\"phi\")"
   ]
  },
  {
   "cell_type": "markdown",
   "id": "1a78dacd",
   "metadata": {},
   "source": [
    "# 5. Agregar los Vectores al Modelo para Indexación\n",
    "\n",
    "Utilizaremos FAISS para indexar los vectores y permitir búsquedas semánticas y consultas posteriores."
   ]
  },
  {
   "cell_type": "code",
   "execution_count": null,
   "id": "4a3424b9",
   "metadata": {},
   "outputs": [],
   "source": [
    "# Crear el índice FAISS\n",
    "dimension = embeddings.shape[1]\n",
    "index = faiss.IndexFlatL2(dimension)\n",
    "index.add(embeddings)\n",
    "\n",
    "# Guardar los chunks para referencia posterior\n",
    "with open(\"c:/Users/TZ002NB/Desktop/rag-fine-tunning/chunks.pkl\", \"wb\") as f:\n",
    "    pickle.dump(all_chunks, f)"
   ]
  },
  {
   "cell_type": "markdown",
   "id": "d2f6d170",
   "metadata": {},
   "source": [
    "# 6. Guardar el Modelo Vectorizado para Uso Posterior\n",
    "\n",
    "Guardaremos el índice FAISS y los textos fragmentados para poder consultarlos desde otros archivos o proyectos."
   ]
  },
  {
   "cell_type": "code",
   "execution_count": null,
   "id": "481af9f2",
   "metadata": {},
   "outputs": [],
   "source": [
    "# Guardar el índice FAISS\n",
    "faiss.write_index(index, \"c:/Users/TZ002NB/Desktop/rag-fine-tunning/faiss_index.bin\")\n",
    "\n",
    "# Guardar los embeddings por si se requieren\n",
    "np.save(\"c:/Users/TZ002NB/Desktop/rag-fine-tunning/embeddings.npy\", embeddings)"
   ]
  },
  {
   "cell_type": "markdown",
   "id": "b915f299",
   "metadata": {},
   "source": [
    "# 7. Ejemplo de Compilación del Proyecto\n",
    "\n",
    "Puedes empaquetar este proyecto como un módulo o script para reutilizarlo en otros entornos. Por ejemplo, puedes crear un archivo `procesar_pdfs.py` con las funciones de extracción, vectorización e indexación."
   ]
  },
  {
   "cell_type": "code",
   "execution_count": null,
   "id": "d5b1a449",
   "metadata": {},
   "outputs": [],
   "source": [
    "# Ejemplo de cómo podrías estructurar el script principal para compilar el proyecto\n",
    "# Guardar este código como procesar_pdfs.py\n",
    "\n",
    "\"\"\"\n",
    "from procesar_pdfs import extract_text_from_pdfs, chunk_text, embedder, faiss, np, pickle\n",
    "\n",
    "# Leer PDFs y procesar\n",
    "pdf_files = [...]\n",
    "pdf_texts = extract_text_from_pdfs(pdf_files)\n",
    "all_chunks = []\n",
    "for doc in pdf_texts:\n",
    "    all_chunks.extend(chunk_text(doc))\n",
    "embeddings = embedder.encode(all_chunks, show_progress_bar=True, convert_to_numpy=True)\n",
    "dimension = embeddings.shape[1]\n",
    "index = faiss.IndexFlatL2(dimension)\n",
    "index.add(embeddings)\n",
    "faiss.write_index(index, \"faiss_index.bin\")\n",
    "with open(\"chunks.pkl\", \"wb\") as f:\n",
    "    pickle.dump(all_chunks, f)\n",
    "\"\"\""
   ]
  },
  {
   "cell_type": "markdown",
   "id": "4b16254c",
   "metadata": {},
   "source": [
    "# 8. Ejemplo de Consulta al Modelo desde Otro Archivo\n",
    "\n",
    "A continuación, se muestra cómo cargar el índice y los textos guardados para realizar preguntas y testear el sistema."
   ]
  },
  {
   "cell_type": "code",
   "execution_count": null,
   "id": "e02b5dca",
   "metadata": {},
   "outputs": [],
   "source": [
    "# Cargar el índice y los chunks\n",
    "index = faiss.read_index(\"c:/Users/TZ002NB/Desktop/rag-fine-tunning/faiss_index.bin\")\n",
    "with open(\"c:/Users/TZ002NB/Desktop/rag-fine-tunning/chunks.pkl\", \"rb\") as f:\n",
    "    all_chunks = pickle.load(f)\n",
    "\n",
    "# Función para consultar el índice\n",
    "def buscar_respuesta(pregunta, k=3):\n",
    "    pregunta_vec = embedder.encode([pregunta], convert_to_numpy=True)\n",
    "    D, I = index.search(pregunta_vec, k)\n",
    "    resultados = [all_chunks[i] for i in I[0]]\n",
    "    return resultados\n",
    "\n",
    "# Ejemplo de consulta\n",
    "pregunta = \"¿Cuál es el tema principal de los documentos?\"\n",
    "respuestas = buscar_respuesta(pregunta)\n",
    "for idx, resp in enumerate(respuestas):\n",
    "    print(f\"Respuesta {idx+1}:\\n{resp}\\n\")"
   ]
  }
 ],
 "metadata": {
  "language_info": {
   "name": "python"
  }
 },
 "nbformat": 4,
 "nbformat_minor": 5
}
