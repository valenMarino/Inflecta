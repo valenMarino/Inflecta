{
 "cells": [
  {
   "cell_type": "markdown",
   "id": "0729193b",
   "metadata": {},
   "source": [
    "# 1. Instalar e Importar Librerías Necesarias\n",
    "\n",
    "En esta sección instalaremos e importaremos todas las librerías necesarias para el procesamiento de PDFs, vectorización, tokenización y uso de modelos ligeros multilenguaje compatibles con Ollama."
   ]
  },
  {
   "cell_type": "code",
   "execution_count": 5,
   "id": "ede5948c",
   "metadata": {},
   "outputs": [
    {
     "name": "stdout",
     "output_type": "stream",
     "text": [
      "Requirement already satisfied: PyPDF2 in c:\\users\\usuario\\desktop\\cursos_repos\\inflecta\\.venv\\lib\\site-packages (3.0.1)\n",
      "Requirement already satisfied: sentence-transformers in c:\\users\\usuario\\desktop\\cursos_repos\\inflecta\\.venv\\lib\\site-packages (5.1.1)\n",
      "Requirement already satisfied: langchain in c:\\users\\usuario\\desktop\\cursos_repos\\inflecta\\.venv\\lib\\site-packages (0.3.27)\n",
      "Requirement already satisfied: faiss-cpu in c:\\users\\usuario\\desktop\\cursos_repos\\inflecta\\.venv\\lib\\site-packages (1.12.0)\n",
      "Requirement already satisfied: pdf2image in c:\\users\\usuario\\desktop\\cursos_repos\\inflecta\\.venv\\lib\\site-packages (1.17.0)\n",
      "Requirement already satisfied: pytesseract in c:\\users\\usuario\\desktop\\cursos_repos\\inflecta\\.venv\\lib\\site-packages (0.3.13)\n",
      "Requirement already satisfied: pillow in c:\\users\\usuario\\desktop\\cursos_repos\\inflecta\\.venv\\lib\\site-packages (11.3.0)\n",
      "Requirement already satisfied: opencv-python in c:\\users\\usuario\\desktop\\cursos_repos\\inflecta\\.venv\\lib\\site-packages (4.12.0.88)\n",
      "Requirement already satisfied: transformers<5.0.0,>=4.41.0 in c:\\users\\usuario\\desktop\\cursos_repos\\inflecta\\.venv\\lib\\site-packages (from sentence-transformers) (4.57.0)\n",
      "Requirement already satisfied: tqdm in c:\\users\\usuario\\desktop\\cursos_repos\\inflecta\\.venv\\lib\\site-packages (from sentence-transformers) (4.67.1)\n",
      "Requirement already satisfied: torch>=1.11.0 in c:\\users\\usuario\\desktop\\cursos_repos\\inflecta\\.venv\\lib\\site-packages (from sentence-transformers) (2.8.0)\n",
      "Requirement already satisfied: scikit-learn in c:\\users\\usuario\\desktop\\cursos_repos\\inflecta\\.venv\\lib\\site-packages (from sentence-transformers) (1.7.2)\n",
      "Requirement already satisfied: scipy in c:\\users\\usuario\\desktop\\cursos_repos\\inflecta\\.venv\\lib\\site-packages (from sentence-transformers) (1.16.2)\n",
      "Requirement already satisfied: huggingface-hub>=0.20.0 in c:\\users\\usuario\\desktop\\cursos_repos\\inflecta\\.venv\\lib\\site-packages (from sentence-transformers) (0.35.3)\n",
      "Requirement already satisfied: typing_extensions>=4.5.0 in c:\\users\\usuario\\desktop\\cursos_repos\\inflecta\\.venv\\lib\\site-packages (from sentence-transformers) (4.15.0)\n",
      "Requirement already satisfied: filelock in c:\\users\\usuario\\desktop\\cursos_repos\\inflecta\\.venv\\lib\\site-packages (from transformers<5.0.0,>=4.41.0->sentence-transformers) (3.19.1)\n",
      "Requirement already satisfied: numpy>=1.17 in c:\\users\\usuario\\desktop\\cursos_repos\\inflecta\\.venv\\lib\\site-packages (from transformers<5.0.0,>=4.41.0->sentence-transformers) (2.2.6)\n",
      "Requirement already satisfied: packaging>=20.0 in c:\\users\\usuario\\desktop\\cursos_repos\\inflecta\\.venv\\lib\\site-packages (from transformers<5.0.0,>=4.41.0->sentence-transformers) (25.0)\n",
      "Requirement already satisfied: pyyaml>=5.1 in c:\\users\\usuario\\desktop\\cursos_repos\\inflecta\\.venv\\lib\\site-packages (from transformers<5.0.0,>=4.41.0->sentence-transformers) (6.0.3)\n",
      "Requirement already satisfied: regex!=2019.12.17 in c:\\users\\usuario\\desktop\\cursos_repos\\inflecta\\.venv\\lib\\site-packages (from transformers<5.0.0,>=4.41.0->sentence-transformers) (2025.9.18)\n",
      "Requirement already satisfied: requests in c:\\users\\usuario\\desktop\\cursos_repos\\inflecta\\.venv\\lib\\site-packages (from transformers<5.0.0,>=4.41.0->sentence-transformers) (2.32.5)\n",
      "Requirement already satisfied: tokenizers<=0.23.0,>=0.22.0 in c:\\users\\usuario\\desktop\\cursos_repos\\inflecta\\.venv\\lib\\site-packages (from transformers<5.0.0,>=4.41.0->sentence-transformers) (0.22.1)\n",
      "Requirement already satisfied: safetensors>=0.4.3 in c:\\users\\usuario\\desktop\\cursos_repos\\inflecta\\.venv\\lib\\site-packages (from transformers<5.0.0,>=4.41.0->sentence-transformers) (0.6.2)\n",
      "Requirement already satisfied: fsspec>=2023.5.0 in c:\\users\\usuario\\desktop\\cursos_repos\\inflecta\\.venv\\lib\\site-packages (from huggingface-hub>=0.20.0->sentence-transformers) (2025.9.0)\n",
      "Requirement already satisfied: langchain-core<1.0.0,>=0.3.72 in c:\\users\\usuario\\desktop\\cursos_repos\\inflecta\\.venv\\lib\\site-packages (from langchain) (0.3.78)\n",
      "Requirement already satisfied: langchain-text-splitters<1.0.0,>=0.3.9 in c:\\users\\usuario\\desktop\\cursos_repos\\inflecta\\.venv\\lib\\site-packages (from langchain) (0.3.11)\n",
      "Requirement already satisfied: langsmith>=0.1.17 in c:\\users\\usuario\\desktop\\cursos_repos\\inflecta\\.venv\\lib\\site-packages (from langchain) (0.4.32)\n",
      "Requirement already satisfied: pydantic<3.0.0,>=2.7.4 in c:\\users\\usuario\\desktop\\cursos_repos\\inflecta\\.venv\\lib\\site-packages (from langchain) (2.11.10)\n",
      "Requirement already satisfied: SQLAlchemy<3,>=1.4 in c:\\users\\usuario\\desktop\\cursos_repos\\inflecta\\.venv\\lib\\site-packages (from langchain) (2.0.43)\n",
      "Requirement already satisfied: tenacity!=8.4.0,<10.0.0,>=8.1.0 in c:\\users\\usuario\\desktop\\cursos_repos\\inflecta\\.venv\\lib\\site-packages (from langchain-core<1.0.0,>=0.3.72->langchain) (9.1.2)\n",
      "Requirement already satisfied: jsonpatch<2.0.0,>=1.33.0 in c:\\users\\usuario\\desktop\\cursos_repos\\inflecta\\.venv\\lib\\site-packages (from langchain-core<1.0.0,>=0.3.72->langchain) (1.33)\n",
      "Requirement already satisfied: jsonpointer>=1.9 in c:\\users\\usuario\\desktop\\cursos_repos\\inflecta\\.venv\\lib\\site-packages (from jsonpatch<2.0.0,>=1.33.0->langchain-core<1.0.0,>=0.3.72->langchain) (3.0.0)\n",
      "Requirement already satisfied: httpx<1,>=0.23.0 in c:\\users\\usuario\\desktop\\cursos_repos\\inflecta\\.venv\\lib\\site-packages (from langsmith>=0.1.17->langchain) (0.28.1)\n",
      "Requirement already satisfied: orjson>=3.9.14 in c:\\users\\usuario\\desktop\\cursos_repos\\inflecta\\.venv\\lib\\site-packages (from langsmith>=0.1.17->langchain) (3.11.3)\n",
      "Requirement already satisfied: requests-toolbelt>=1.0.0 in c:\\users\\usuario\\desktop\\cursos_repos\\inflecta\\.venv\\lib\\site-packages (from langsmith>=0.1.17->langchain) (1.0.0)\n",
      "Requirement already satisfied: zstandard>=0.23.0 in c:\\users\\usuario\\desktop\\cursos_repos\\inflecta\\.venv\\lib\\site-packages (from langsmith>=0.1.17->langchain) (0.25.0)\n",
      "Requirement already satisfied: anyio in c:\\users\\usuario\\desktop\\cursos_repos\\inflecta\\.venv\\lib\\site-packages (from httpx<1,>=0.23.0->langsmith>=0.1.17->langchain) (4.11.0)\n",
      "Requirement already satisfied: certifi in c:\\users\\usuario\\desktop\\cursos_repos\\inflecta\\.venv\\lib\\site-packages (from httpx<1,>=0.23.0->langsmith>=0.1.17->langchain) (2025.10.5)\n",
      "Requirement already satisfied: httpcore==1.* in c:\\users\\usuario\\desktop\\cursos_repos\\inflecta\\.venv\\lib\\site-packages (from httpx<1,>=0.23.0->langsmith>=0.1.17->langchain) (1.0.9)\n",
      "Requirement already satisfied: idna in c:\\users\\usuario\\desktop\\cursos_repos\\inflecta\\.venv\\lib\\site-packages (from httpx<1,>=0.23.0->langsmith>=0.1.17->langchain) (3.10)\n",
      "Requirement already satisfied: h11>=0.16 in c:\\users\\usuario\\desktop\\cursos_repos\\inflecta\\.venv\\lib\\site-packages (from httpcore==1.*->httpx<1,>=0.23.0->langsmith>=0.1.17->langchain) (0.16.0)\n",
      "Requirement already satisfied: annotated-types>=0.6.0 in c:\\users\\usuario\\desktop\\cursos_repos\\inflecta\\.venv\\lib\\site-packages (from pydantic<3.0.0,>=2.7.4->langchain) (0.7.0)\n",
      "Requirement already satisfied: pydantic-core==2.33.2 in c:\\users\\usuario\\desktop\\cursos_repos\\inflecta\\.venv\\lib\\site-packages (from pydantic<3.0.0,>=2.7.4->langchain) (2.33.2)\n",
      "Requirement already satisfied: typing-inspection>=0.4.0 in c:\\users\\usuario\\desktop\\cursos_repos\\inflecta\\.venv\\lib\\site-packages (from pydantic<3.0.0,>=2.7.4->langchain) (0.4.2)\n",
      "Requirement already satisfied: charset_normalizer<4,>=2 in c:\\users\\usuario\\desktop\\cursos_repos\\inflecta\\.venv\\lib\\site-packages (from requests->transformers<5.0.0,>=4.41.0->sentence-transformers) (3.4.3)\n",
      "Requirement already satisfied: urllib3<3,>=1.21.1 in c:\\users\\usuario\\desktop\\cursos_repos\\inflecta\\.venv\\lib\\site-packages (from requests->transformers<5.0.0,>=4.41.0->sentence-transformers) (2.5.0)\n",
      "Requirement already satisfied: greenlet>=1 in c:\\users\\usuario\\desktop\\cursos_repos\\inflecta\\.venv\\lib\\site-packages (from SQLAlchemy<3,>=1.4->langchain) (3.2.4)\n",
      "Requirement already satisfied: sympy>=1.13.3 in c:\\users\\usuario\\desktop\\cursos_repos\\inflecta\\.venv\\lib\\site-packages (from torch>=1.11.0->sentence-transformers) (1.14.0)\n",
      "Requirement already satisfied: networkx in c:\\users\\usuario\\desktop\\cursos_repos\\inflecta\\.venv\\lib\\site-packages (from torch>=1.11.0->sentence-transformers) (3.5)\n",
      "Requirement already satisfied: jinja2 in c:\\users\\usuario\\desktop\\cursos_repos\\inflecta\\.venv\\lib\\site-packages (from torch>=1.11.0->sentence-transformers) (3.1.6)\n",
      "Requirement already satisfied: mpmath<1.4,>=1.1.0 in c:\\users\\usuario\\desktop\\cursos_repos\\inflecta\\.venv\\lib\\site-packages (from sympy>=1.13.3->torch>=1.11.0->sentence-transformers) (1.3.0)\n",
      "Requirement already satisfied: colorama in c:\\users\\usuario\\desktop\\cursos_repos\\inflecta\\.venv\\lib\\site-packages (from tqdm->sentence-transformers) (0.4.6)\n",
      "Requirement already satisfied: sniffio>=1.1 in c:\\users\\usuario\\desktop\\cursos_repos\\inflecta\\.venv\\lib\\site-packages (from anyio->httpx<1,>=0.23.0->langsmith>=0.1.17->langchain) (1.3.1)\n",
      "Requirement already satisfied: MarkupSafe>=2.0 in c:\\users\\usuario\\desktop\\cursos_repos\\inflecta\\.venv\\lib\\site-packages (from jinja2->torch>=1.11.0->sentence-transformers) (3.0.3)\n",
      "Requirement already satisfied: joblib>=1.2.0 in c:\\users\\usuario\\desktop\\cursos_repos\\inflecta\\.venv\\lib\\site-packages (from scikit-learn->sentence-transformers) (1.5.2)\n",
      "Requirement already satisfied: threadpoolctl>=3.1.0 in c:\\users\\usuario\\desktop\\cursos_repos\\inflecta\\.venv\\lib\\site-packages (from scikit-learn->sentence-transformers) (3.6.0)\n",
      "Note: you may need to restart the kernel to use updated packages.\n"
     ]
    }
   ],
   "source": [
    "# Instalar librerías necesarias\n",
    "%pip install PyPDF2 sentence-transformers langchain faiss-cpu pdf2image pytesseract pillow opencv-python\n",
    "\n",
    "# Importar librerías\n",
    "import os\n",
    "import subprocess\n",
    "from pdf2image import convert_from_path\n",
    "import pytesseract\n",
    "from sentence_transformers import SentenceTransformer\n",
    "import numpy as np\n",
    "import faiss\n",
    "import pickle\n",
    "import cv2\n",
    "from PIL import Image\n",
    "from pathlib import Path\n"
   ]
  },
  {
   "cell_type": "markdown",
   "id": "9b479d46",
   "metadata": {},
   "source": [
    "# 2. Configuración y seteo de binarios\n",
    "\n",
    "En esta sección construiremos todas las configuraciones necesarias, path a binario y demás"
   ]
  },
  {
   "cell_type": "code",
   "execution_count": null,
   "id": "963fc5a0",
   "metadata": {},
   "outputs": [
    {
     "name": "stdout",
     "output_type": "stream",
     "text": [
      "PDF_FOLDER: C:\\Users\\Usuario\\Desktop\\cursos_repos\\Inflecta\\pdfs\n"
     ]
    }
   ],
   "source": [
    "\n",
    "BASE_DIR = Path().resolve()\n",
    "PDF_FOLDER = os.path.join(BASE_DIR, \"pdfs\")\n",
    "print(f\"PDF_FOLDER: {PDF_FOLDER}\")\n",
    "\n",
    "INDEX_PATH = os.path.join(BASE_DIR, \"faiss_index.bin\")\n",
    "CHUNKS_PATH = os.path.join(BASE_DIR, \"chunks.pkl\")\n",
    "EMBEDDINGS_PATH = os.path.join(BASE_DIR, \"embeddings.npy\")\n",
    "OUTPUT_FOLDER = os.path.join(BASE_DIR, \"ocr_textos\")\n",
    "\n",
    "\n",
    "#tesseract\n",
    "tesseract_cmd = os.path.join(os.getcwd(), \"tesseract\", \"tesseract.exe\")\n",
    "pytesseract.pytesseract.tesseract_cmd = tesseract_cmd\n",
    "\n",
    "#poppler\n",
    "poppler_path = os.path.join(os.getcwd(), \"poppler\", \"bin\")\n",
    "\n",
    "# Verificar que los binarios existen\n",
    "required_bins = [\"pdfinfo.exe\", \"pdftoppm.exe\"]\n",
    "for b in required_bins:\n",
    "    if not os.path.exists(os.path.join(poppler_path, b)):\n",
    "        raise FileNotFoundError(f\"No se encontró {b} en {poppler_path}\")"
   ]
  },
  {
   "cell_type": "markdown",
   "id": "97a27aef",
   "metadata": {},
   "source": [
    "# 3. Cargar modelo multilenguaje\n",
    "\n",
    "En esta sección se carga un modelo para realizar los embeddings. Debe ser el mismo con el cual se lee después"
   ]
  },
  {
   "cell_type": "code",
   "execution_count": null,
   "id": "82db3589",
   "metadata": {},
   "outputs": [],
   "source": [
    "# Cargar modelo multilenguaje ligero\n",
    "model_name = \"paraphrase-multilingual-mpnet-base-v2\"\n",
    "embedder = SentenceTransformer(model_name)"
   ]
  },
  {
   "cell_type": "markdown",
   "id": "a7e458a4",
   "metadata": {},
   "source": [
    "# 4. Función para mejorar el contraste de los pdf\n",
    "\n",
    "En esta sección se mejora el pdf, realzando el contraste para mejorar la identificación del texto"
   ]
  },
  {
   "cell_type": "code",
   "execution_count": null,
   "id": "26afdb8f",
   "metadata": {},
   "outputs": [],
   "source": [
    "def preprocess_image(pil_image):\n",
    "    # Convertir PIL a OpenCV\n",
    "    cv_image = np.array(pil_image)\n",
    "    cv_image = cv2.cvtColor(cv_image, cv2.COLOR_RGB2GRAY)\n",
    "    # Aplicar umbral para mejorar contraste\n",
    "    _, thresh = cv2.threshold(cv_image, 180, 255, cv2.THRESH_BINARY)\n",
    "    return Image.fromarray(thresh)"
   ]
  },
  {
   "cell_type": "markdown",
   "id": "55eabef1",
   "metadata": {},
   "source": [
    "# 5. Función OCR de imágenes dentro del pdf\n",
    "\n",
    "En esta sección se revisan si hay imagenes en pdf para extraer texto"
   ]
  },
  {
   "cell_type": "code",
   "execution_count": null,
   "id": "25513794",
   "metadata": {},
   "outputs": [],
   "source": [
    "# -------------------------------\n",
    "# Función OCR para PDFs de imágenes\n",
    "# -------------------------------\n",
    "def extract_text_from_image_pdf(pdf_file, psm=6):\n",
    "    pages = convert_from_path(pdf_file, dpi=300, poppler_path=poppler_path)\n",
    "    all_chunks = []\n",
    "\n",
    "    # Nombre del archivo TXT de salida\n",
    "    pdf_name = os.path.splitext(os.path.basename(pdf_file))[0]\n",
    "    txt_output = os.path.join(OUTPUT_FOLDER, f\"{pdf_name}ocr.txt\")\n",
    "\n",
    "    with open(txt_output, \"w\", encoding=\"utf-8\") as f:\n",
    "        f.write(f\"========== OCR de {os.path.basename(pdf_file)} ==========\\n\")\n",
    "\n",
    "        for i, page in enumerate(pages):\n",
    "            processed_page = preprocess_image(page)\n",
    "            text = pytesseract.image_to_string(processed_page, lang='spa', config=f'--psm {psm}').strip()\n",
    "\n",
    "            f.write(f\"\\n--- Página {i + 1} ---\\n\")\n",
    "            if text:\n",
    "                f.write(text + \"\\n\")\n",
    "                words = text.split()\n",
    "                page_chunks = [' '.join(words[j:j + 200]) for j in range(0, len(words), 200)]\n",
    "                all_chunks.extend(page_chunks)\n",
    "                print(f\"📄 {os.path.basename(pdf_file)} - Página {i + 1}: {len(words)} palabras extraídas\")\n",
    "            else:\n",
    "                f.write(\"[Sin texto detectado]\\n\")\n",
    "                print(f\"⚠️ {os.path.basename(pdf_file)} - Página {i + 1}: sin texto detectado\")\n",
    "\n",
    "    print(f\"📝 Texto OCR guardado en: {txt_output}\")\n",
    "    return all_chunks\n"
   ]
  },
  {
   "cell_type": "markdown",
   "id": "c08b0cba",
   "metadata": {},
   "source": [
    "# 6. Procesamos todos los pdfs\n",
    "\n",
    "En esta sección se recolentan los pdfs y se procesan"
   ]
  },
  {
   "cell_type": "code",
   "execution_count": null,
   "id": "3c31a0d0",
   "metadata": {},
   "outputs": [],
   "source": [
    "# -------------------------------\n",
    "# Procesar todos los PDFs\n",
    "# -------------------------------\n",
    "pdf_files = [os.path.join(PDF_FOLDER, f) for f in os.listdir(PDF_FOLDER) if f.lower().endswith('.pdf')]\n",
    "\n",
    "all_chunks = []\n",
    "for pdf_file in pdf_files:\n",
    "    chunks = extract_text_from_image_pdf(pdf_file)\n",
    "    print(f\"{os.path.basename(pdf_file)} -> {len(chunks)} chunks generados\\n\")\n",
    "    all_chunks.extend(chunks)\n",
    "\n",
    "print(f\"📦 Total de chunks generados: {len(all_chunks)}\")\n",
    "print(f\"📁 Archivos OCR guardados en: {OUTPUT_FOLDER}\")"
   ]
  },
  {
   "cell_type": "markdown",
   "id": "bb1cb8e8",
   "metadata": {},
   "source": [
    "# 7. Generación de embeddings\n",
    "\n",
    "En esta sección se generan los embeddings"
   ]
  },
  {
   "cell_type": "code",
   "execution_count": null,
   "id": "2a92f9d4",
   "metadata": {},
   "outputs": [],
   "source": [
    "# -------------------------------\n",
    "# Generar embeddings\n",
    "# -------------------------------\n",
    "if len(all_chunks) == 0:\n",
    "    raise ValueError(\"No se generaron chunks. Revisa los PDFs y el OCR.\")\n",
    "\n",
    "embeddings = embedder.encode(all_chunks, show_progress_bar=True, convert_to_numpy=True)\n",
    "print(f\"Se generaron {embeddings.shape[0]} vectores.\")\n"
   ]
  },
  {
   "cell_type": "markdown",
   "id": "f8d1f5d8",
   "metadata": {},
   "source": [
    "# 8. Creamos el indice FAISS\n",
    "\n",
    "En esta sección se crea el indice FAISS (basicamente es para manipular mejor los vectores, obtenerlos eficientemente bla bla)"
   ]
  },
  {
   "cell_type": "code",
   "execution_count": null,
   "id": "3e5adf05",
   "metadata": {},
   "outputs": [],
   "source": [
    "# -------------------------------\n",
    "# Crear índice FAISS\n",
    "# -------------------------------\n",
    "dimension = embeddings.shape[1]\n",
    "index = faiss.IndexFlatL2(dimension)\n",
    "index.add(embeddings)\n",
    "print(f\"Índice FAISS creado con {index.ntotal} vectores.\")"
   ]
  },
  {
   "cell_type": "markdown",
   "id": "bdad00e7",
   "metadata": {},
   "source": [
    "# 9. Guardamos indices y datos\n",
    "\n",
    "En esta sección se guardan los indices"
   ]
  },
  {
   "cell_type": "code",
   "execution_count": null,
   "id": "7b75fadb",
   "metadata": {},
   "outputs": [],
   "source": [
    "# -------------------------------\n",
    "# Guardar índice y datos\n",
    "# -------------------------------\n",
    "faiss.write_index(index, INDEX_PATH)\n",
    "np.save(EMBEDDINGS_PATH, embeddings)\n",
    "with open(CHUNKS_PATH, \"wb\") as f:\n",
    "    pickle.dump(all_chunks, f)\n",
    "print(\"FAISS index, embeddings y chunks guardados correctamente.\")"
   ]
  },
  {
   "cell_type": "markdown",
   "id": "47330fd2",
   "metadata": {},
   "source": [
    "# 10. Revisamos cuantos chunks se crearon\n",
    "\n",
    "En esta sección revisamos cuantos chunks se crearon"
   ]
  },
  {
   "cell_type": "code",
   "execution_count": null,
   "id": "37b6f539",
   "metadata": {},
   "outputs": [],
   "source": [
    "# -------------------------------\n",
    "# Verificación final\n",
    "# -------------------------------\n",
    "with open(CHUNKS_PATH, \"rb\") as f:\n",
    "    loaded_chunks = pickle.load(f)\n",
    "print(f\"Número de chunks cargados: {len(loaded_chunks)}\")\n",
    "print(\"Ejemplo de chunk:\", loaded_chunks[0][:200], \"...\")"
   ]
  }
 ],
 "metadata": {
  "kernelspec": {
   "display_name": ".venv",
   "language": "python",
   "name": "python3"
  },
  "language_info": {
   "codemirror_mode": {
    "name": "ipython",
    "version": 3
   },
   "file_extension": ".py",
   "mimetype": "text/x-python",
   "name": "python",
   "nbconvert_exporter": "python",
   "pygments_lexer": "ipython3",
   "version": "3.11.9"
  }
 },
 "nbformat": 4,
 "nbformat_minor": 5
}
