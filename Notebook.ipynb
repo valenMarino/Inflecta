{
 "cells": [
  {
   "cell_type": "markdown",
   "id": "0729193b",
   "metadata": {},
   "source": [
    "# 1. Instalar e Importar Librerías Necesarias\n",
    "\n",
    "En esta sección instalaremos e importaremos todas las librerías necesarias para el procesamiento de PDFs, vectorización, tokenización y uso de modelos ligeros multilenguaje compatibles con Ollama."
   ]
  },
  {
   "cell_type": "code",
   "execution_count": null,
   "id": "ede5948c",
   "metadata": {},
   "outputs": [],
   "source": [
    "# Instalar librerías necesarias\n",
    "%pip install PyPDF2 sentence-transformers langchain faiss-cpu pdf2image pytesseract pillow opencv-python tiktoken chromadb langchain-community\n",
    "\n",
    "# Importar librerías\n",
    "import os\n",
    "import subprocess\n",
    "from pdf2image import convert_from_path\n",
    "import pytesseract\n",
    "from sentence_transformers import SentenceTransformer\n",
    "import numpy as np\n",
    "import faiss\n",
    "import pickle\n",
    "import cv2\n",
    "from PIL import Image\n",
    "from pathlib import Path\n",
    "import tiktoken"
   ]
  },
  {
   "cell_type": "markdown",
   "id": "9b479d46",
   "metadata": {},
   "source": [
    "# 2. Configuración y seteo de binarios\n",
    "\n",
    "En esta sección construiremos todas las configuraciones necesarias, path a binario y demás"
   ]
  },
  {
   "cell_type": "code",
   "execution_count": null,
   "id": "963fc5a0",
   "metadata": {},
   "outputs": [],
   "source": [
    "\n",
    "BASE_DIR = Path().resolve()\n",
    "PDF_FOLDER = os.path.join(BASE_DIR, \"pdfs\")\n",
    "print(f\"PDF_FOLDER: {PDF_FOLDER}\")\n",
    "\n",
    "INDEX_PATH = os.path.join(BASE_DIR, \"faiss_index.bin\")\n",
    "CHUNKS_PATH = os.path.join(BASE_DIR, \"chunks.pkl\")\n",
    "EMBEDDINGS_PATH = os.path.join(BASE_DIR, \"embeddings.npy\")\n",
    "OUTPUT_FOLDER = os.path.join(BASE_DIR, \"ocr_textos\")\n",
    "\n",
    "try:\n",
    "    import chromadb\n",
    "    from chromadb.config import Settings\n",
    "except Exception as e:\n",
    "    print(\"Chromadb no instalado. Ejecuta: pip install chromadb\")\n",
    "    raise\n",
    "\n",
    "#tesseract\n",
    "tesseract_cmd = os.path.join(os.getcwd(), \"tesseract\", \"tesseract.exe\")\n",
    "pytesseract.pytesseract.tesseract_cmd = tesseract_cmd\n",
    "\n",
    "#poppler\n",
    "poppler_path = os.path.join(os.getcwd(), \"poppler\", \"bin\")\n",
    "\n",
    "required_bins = [\"pdfinfo.exe\", \"pdftoppm.exe\"]\n",
    "for b in required_bins:\n",
    "    if not os.path.exists(os.path.join(poppler_path, b)):\n",
    "        raise FileNotFoundError(f\"No se encontró {b} en {poppler_path}\")"
   ]
  },
  {
   "cell_type": "markdown",
   "id": "97a27aef",
   "metadata": {},
   "source": [
    "# 3. Cargar modelo multilenguaje\n",
    "\n",
    "En esta sección se carga un modelo para realizar los embeddings. Debe ser el mismo con el cual se lee después"
   ]
  },
  {
   "cell_type": "code",
   "execution_count": null,
   "id": "82db3589",
   "metadata": {},
   "outputs": [],
   "source": [
    "model_name = \"paraphrase-multilingual-mpnet-base-v2\"\n",
    "embedder = SentenceTransformer(model_name)"
   ]
  },
  {
   "cell_type": "markdown",
   "id": "a7e458a4",
   "metadata": {},
   "source": [
    "# 4. Función para mejorar el contraste de los pdf\n",
    "\n",
    "En esta sección se mejora el pdf, realzando el contraste para mejorar la identificación del texto"
   ]
  },
  {
   "cell_type": "code",
   "execution_count": null,
   "id": "26afdb8f",
   "metadata": {},
   "outputs": [],
   "source": [
    "def preprocess_image(pil_image):\n",
    "    cv_image = np.array(pil_image)\n",
    "    cv_image = cv2.cvtColor(cv_image, cv2.COLOR_RGB2GRAY)\n",
    "    # Aplicar umbral para mejorar contraste\n",
    "    _, thresh = cv2.threshold(cv_image, 180, 255, cv2.THRESH_BINARY)\n",
    "    return Image.fromarray(thresh)"
   ]
  },
  {
   "cell_type": "markdown",
   "id": "55eabef1",
   "metadata": {},
   "source": [
    "# 5. Función OCR de imágenes dentro del pdf\n",
    "\n",
    "En esta sección se revisan si hay imagenes en pdf para extraer texto"
   ]
  },
  {
   "cell_type": "code",
   "execution_count": null,
   "id": "25513794",
   "metadata": {},
   "outputs": [],
   "source": [
    "def extract_text_from_image_pdf(pdf_file, psm=6, chunk_size=200, overlap=50, context_window=1):\n",
    "    pages = convert_from_path(pdf_file, dpi=300, poppler_path=poppler_path)\n",
    "    all_chunks = []\n",
    "\n",
    "    pdf_name = os.path.splitext(os.path.basename(pdf_file))[0]\n",
    "    txt_output = os.path.join(OUTPUT_FOLDER, f\"{pdf_name}ocr.txt\")\n",
    "\n",
    "    with open(txt_output, \"w\", encoding=\"utf-8\") as f:\n",
    "        f.write(f\"========== OCR de {os.path.basename(pdf_file)} ==========\\n\")\n",
    "\n",
    "        for i, page in enumerate(pages):\n",
    "            processed_page = preprocess_image(page)\n",
    "            text = pytesseract.image_to_string(processed_page, lang='spa', config=f'--psm {psm}').strip()\n",
    "\n",
    "            f.write(f\"\\n--- Página {i + 1} ---\\n\")\n",
    "            if text:\n",
    "                f.write(text + \"\\n\")\n",
    "                words = text.split()\n",
    "\n",
    "                # Si no hay palabras, saltar\n",
    "                if len(words) == 0:\n",
    "                    f.write(\"[Sin texto detectado]\\n\")\n",
    "                    print(f\"⚠️ {os.path.basename(pdf_file)} - Página {i + 1}: sin texto detectado\")\n",
    "                    continue\n",
    "\n",
    "                # Generar chunks con solapamiento (sliding window)\n",
    "                page_chunks = []\n",
    "                step = max(1, chunk_size - overlap)\n",
    "                for start in range(0, len(words), step):\n",
    "                    chunk_words = words[start:start + chunk_size]\n",
    "                    chunk_text = ' '.join(chunk_words)\n",
    "                    page_chunks.append({\n",
    "                        'text': chunk_text,\n",
    "                        'page': i + 1,\n",
    "                        'start': start,\n",
    "                        'end': start + len(chunk_words)\n",
    "                    })\n",
    "\n",
    "                # Construir contexto para cada chunk (concatenar neighbors según context_window)\n",
    "                for idx, c in enumerate(page_chunks):\n",
    "                    parts = []\n",
    "                    for k in range(idx - context_window, idx + context_window + 1):\n",
    "                        if 0 <= k < len(page_chunks):\n",
    "                            parts.append(page_chunks[k]['text'])\n",
    "                    c['text_with_context'] = ' '.join(parts)\n",
    "                    c['chunk_id'] = f\"{pdf_name}_p{i + 1}_c{idx}\"\n",
    "\n",
    "                all_chunks.extend(page_chunks)\n",
    "                print(f\"📄 {os.path.basename(pdf_file)} - Página {i + 1}: {len(words)} palabras extraídas -> {len(page_chunks)} chunks\")\n",
    "            else:\n",
    "                f.write(\"[Sin texto detectado]\\n\")\n",
    "                print(f\"⚠️ {os.path.basename(pdf_file)} - Página {i + 1}: sin texto detectado\")\n",
    "\n",
    "    print(f\"📝 Texto OCR guardado en: {txt_output}\")\n",
    "    return all_chunks\n"
   ]
  },
  {
   "cell_type": "markdown",
   "id": "c08b0cba",
   "metadata": {},
   "source": [
    "# 6. Procesamos todos los pdfs\n",
    "\n",
    "En esta sección se recolentan los pdfs y se procesan"
   ]
  },
  {
   "cell_type": "code",
   "execution_count": null,
   "id": "3c31a0d0",
   "metadata": {},
   "outputs": [],
   "source": [
    "pdf_files = [os.path.join(PDF_FOLDER, f) for f in os.listdir(PDF_FOLDER) if f.lower().endswith('.pdf')]\n",
    "\n",
    "all_chunks = []\n",
    "for pdf_file in pdf_files:\n",
    "    chunks = extract_text_from_image_pdf(pdf_file)\n",
    "    print(f\"{os.path.basename(pdf_file)} -> {len(chunks)} chunks generados\\n\")\n",
    "    all_chunks.extend(chunks)\n",
    "\n",
    "print(f\"📦 Total de chunks generados: {len(all_chunks)}\")\n",
    "print(f\"📁 Archivos OCR guardados en: {OUTPUT_FOLDER}\")"
   ]
  },
  {
   "cell_type": "markdown",
   "id": "bb1cb8e8",
   "metadata": {},
   "source": [
    "# 7. Generación de embeddings\n",
    "\n",
    "En esta sección se generan los embeddings"
   ]
  },
  {
   "cell_type": "code",
   "execution_count": null,
   "id": "2a92f9d4",
   "metadata": {},
   "outputs": [],
   "source": [
    "if len(all_chunks) == 0:\n",
    "    raise ValueError(\"No se generaron chunks. Revisa los PDFs y el OCR.\")\n",
    "\n",
    "# Soportar tanto lista de strings (antiguo) como lista de dicts con metadatos\n",
    "if isinstance(all_chunks[0], dict):\n",
    "    texts_to_embed = [c.get('text_with_context', c.get('text')) for c in all_chunks]\n",
    "else:\n",
    "    texts_to_embed = all_chunks\n",
    "\n",
    "embeddings = embedder.encode(texts_to_embed, show_progress_bar=True, convert_to_numpy=True)\n",
    "print(f\"Se generaron {embeddings.shape[0]} vectores.\")\n"
   ]
  },
  {
   "cell_type": "markdown",
   "id": "f8d1f5d8",
   "metadata": {},
   "source": [
    "# 8. Creamos el indice FAISS\n",
    "\n",
    "En esta sección se crea el indice FAISS (basicamente es para manipular mejor los vectores, obtenerlos eficientemente bla bla)"
   ]
  },
  {
   "cell_type": "code",
   "execution_count": null,
   "id": "3e5adf05",
   "metadata": {},
   "outputs": [],
   "source": [
    "dimension = embeddings.shape[1]\n",
    "index = faiss.IndexFlatL2(dimension)\n",
    "index.add(embeddings)\n",
    "print(f\"Índice FAISS creado con {index.ntotal} vectores.\")"
   ]
  },
  {
   "cell_type": "markdown",
   "id": "bdad00e7",
   "metadata": {},
   "source": [
    "# 9. Guardamos indices y datos\n",
    "\n",
    "En esta sección se guardan los indices"
   ]
  },
  {
   "cell_type": "code",
   "execution_count": null,
   "id": "7b75fadb",
   "metadata": {},
   "outputs": [],
   "source": [
    "# Tokenize chunks (try tiktoken, fallback to word-splitting)\n",
    "try:\n",
    "    \n",
    "    # Try to get an encoder for a common model; if not available, use cl100k_base\n",
    "    try:\n",
    "        encoder = tiktoken.encoding_for_model(\"gpt-4o-mini\")\n",
    "    except Exception:\n",
    "        encoder = tiktoken.get_encoding(\"cl100k_base\")\n",
    "\n",
    "    for c in all_chunks:\n",
    "        text = c.get('text_with_context', c.get('text', ''))\n",
    "        try:\n",
    "            token_ids = encoder.encode(text)\n",
    "            c['tokens'] = token_ids\n",
    "            c['token_count'] = len(token_ids)\n",
    "        except Exception:\n",
    "            words = text.split()\n",
    "            c['tokens'] = words\n",
    "            c['token_count'] = len(words)\n",
    "except Exception:\n",
    "    # Fallback simple tokenization by words\n",
    "    for c in all_chunks:\n",
    "        text = c.get('text_with_context', c.get('text', ''))\n",
    "        tokens = text.split()\n",
    "        c['tokens'] = tokens\n",
    "        c['token_count'] = len(tokens)\n",
    "\n",
    "# Guardar índice y datos\n",
    "faiss.write_index(index, INDEX_PATH)\n",
    "np.save(EMBEDDINGS_PATH, embeddings)\n",
    "with open(CHUNKS_PATH, \"wb\") as f:\n",
    "    pickle.dump(all_chunks, f)\n",
    "\n",
    "# Resumen rápido\n",
    "total_tokens = sum(c.get('token_count', 0) for c in all_chunks)\n",
    "max_chunk = max(all_chunks, key=lambda x: x.get('token_count', 0)) if all_chunks else None\n",
    "print(\"FAISS index, embeddings y chunks guardados correctamente.\")\n",
    "print(f\"Chunks guardados: {len(all_chunks)} | Total tokens (aprox): {total_tokens}\")\n",
    "if max_chunk:\n",
    "    print(f\"Chunk con más tokens: {max_chunk.get('chunk_id', '<sin id>')} -> {max_chunk.get('token_count')} tokens\")\n"
   ]
  },
  {
   "cell_type": "markdown",
   "id": "47330fd2",
   "metadata": {},
   "source": [
    "# 10. Revisamos cuantos chunks se crearon\n",
    "\n",
    "En esta sección revisamos cuantos chunks se crearon"
   ]
  },
  {
   "cell_type": "code",
   "execution_count": null,
   "id": "37b6f539",
   "metadata": {},
   "outputs": [],
   "source": [
    "with open(CHUNKS_PATH, \"rb\") as f:\n",
    "    loaded_chunks = pickle.load(f)\n",
    "print(f\"Número de chunks cargados: {len(loaded_chunks)}\")\n",
    "first = loaded_chunks[0]\n",
    "if isinstance(first, dict):\n",
    "    print(\"Ejemplo de chunk id:\", first.get('chunk_id'))\n",
    "    print(\"Página:\", first.get('page'))\n",
    "    print(\"Texto (primeros 200 chars):\", first.get('text')[:200], \"...\")\n",
    "    print(\"Texto con contexto (primeros 200 chars):\", first.get('text_with_context')[:200], \"...\")\n",
    "else:\n",
    "    print(\"Ejemplo de chunk:\", loaded_chunks[0][:200], \"...\")\n"
   ]
  },
  {
   "cell_type": "markdown",
   "id": "a92b4d6c",
   "metadata": {},
   "source": [
    "# Indexación y motores de búsqueda semántica\n",
    "\n",
    "En esta sección añadimos información y ejemplos prácticos para:  \n",
    "- Indexar tus embeddings en una base de vectores (Chroma/Pinecone/Qdrant/FAISS local) y poder hacer búsquedas por similitud.  \n",
    "- Conectar un motor tipo chatbot usando un framework (por ejemplo LangChain) que coordine la recuperación + generación de respuestas.\n",
    "\n",
    "Conceptos clave:\n",
    "\n",
    "- Qué almacenar: el embedding (vector), el texto original o `text_with_context`, y metadatos (documento, página, offsets, chunk_id).  \n",
    "- Trade-offs: bases locales (FAISS/Chroma local) son simples y baratas; servicios gestionados (Pinecone, Qdrant Cloud) escalan mejor y ofrecen features (replicación, métricas, control de versiones).  \n",
    "- Estrategia común: índice \"coarse\" (resúmenes/páginas) + índice \"fine\" (chunks con contexto). Recupera coarse -> restringe search en fine -> ensamblar ordenado -> enviar al LLM.\n"
   ]
  },
  {
   "cell_type": "code",
   "execution_count": null,
   "id": "71140d2f",
   "metadata": {},
   "outputs": [],
   "source": [
    "import chromadb\n",
    "from sentence_transformers import SentenceTransformer\n",
    "\n",
    "MODEL_NAME = \"paraphrase-multilingual-mpnet-base-v2\"\n",
    "PERSIST_DIR = \"./chroma_db\"\n",
    "\n",
    "embedder = SentenceTransformer(MODEL_NAME)\n",
    "\n",
    "client = chromadb.PersistentClient(path=PERSIST_DIR)\n",
    "\n",
    "collection_name = \"inflecta_chunks\"\n",
    "\n",
    "try:\n",
    "    collection = client.get_collection(collection_name)\n",
    "except Exception:\n",
    "    collection = client.create_collection(collection_name)\n",
    "\n",
    "texts = [c.get('text_with_context', c.get('text', '')) for c in all_chunks]\n",
    "ids = [c.get('chunk_id', f\"chunk_{i}\") for i, c in enumerate(all_chunks)]\n",
    "metadatas = [{k: v for k, v in c.items() if k in ('chunk_id', 'page', 'start', 'end')} for c in all_chunks]\n",
    "\n",
    "embeddings = embedder.encode(texts, convert_to_numpy=True).tolist()\n",
    "\n",
    "collection.add(ids=ids, documents=texts, metadatas=metadatas, embeddings=embeddings)\n",
    "\n",
    "print(f\"Añadidos {len(ids)} vectores a Chroma en {PERSIST_DIR} (colección: {collection_name})\")\n"
   ]
  },
  {
   "cell_type": "code",
   "execution_count": null,
   "id": "8e711ec2",
   "metadata": {},
   "outputs": [],
   "source": [
    "from langchain.embeddings import SentenceTransformerEmbeddings\n",
    "from langchain.vectorstores import Chroma\n",
    "from langchain.chains import ConversationalRetrievalChain\n",
    "from langchain.llms import OpenAI\n",
    "from langchain.memory import ConversationBufferMemory\n",
    "from dotenv import load_dotenv\n",
    "import os\n",
    "\n",
    "load_dotenv()\n",
    "OPENAI_API_KEY = os.getenv('OPENAI_API_KEY')\n",
    "MODEL_NAME = \"paraphrase-multilingual-mpnet-base-v2\"\n",
    "PERSIST_DIR = \"./chroma_db\"\n",
    "\n",
    "if not OPENAI_API_KEY:\n",
    "    raise ValueError(\"⚠️ Falta OPENAI_API_KEY en tu archivo .env\")\n",
    "\n",
    "embeddings = SentenceTransformerEmbeddings(model_name=MODEL_NAME)\n",
    "\n",
    "vectordb = Chroma(\n",
    "    persist_directory=PERSIST_DIR,\n",
    "    collection_name=\"inflecta_chunks\",\n",
    "    embedding_function=embeddings\n",
    ")\n",
    "\n",
    "retriever = vectordb.as_retriever(search_kwargs={\"k\": 4})\n",
    "\n",
    "llm = OpenAI(openai_api_key=OPENAI_API_KEY, temperature=0.0)\n",
    "\n",
    "memory = ConversationBufferMemory(\n",
    "    memory_key=\"chat_history\",\n",
    "    return_messages=True\n",
    ")\n",
    "\n",
    "qa_chain = ConversationalRetrievalChain.from_llm(\n",
    "    llm=llm,\n",
    "    retriever=retriever,\n",
    "    memory=memory,\n",
    "    chain_type=\"stuff\"\n",
    ")\n",
    "\n",
    "print(\"💬 Chat RAG iniciado (escribe 'salir' para terminar)\\n\")\n",
    "\n",
    "while True:\n",
    "    pregunta = input(\"Tú: \")\n",
    "    if pregunta.lower() in [\"salir\", \"exit\", \"quit\"]:\n",
    "        print(\"👋 Fin del chat.\")\n",
    "        break\n",
    "\n",
    "    respuesta = qa_chain({\"question\": pregunta})\n",
    "    print(\"🤖:\", respuesta[\"answer\"])\n"
   ]
  }
 ],
 "metadata": {
  "kernelspec": {
   "display_name": ".venv",
   "language": "python",
   "name": "python3"
  },
  "language_info": {
   "codemirror_mode": {
    "name": "ipython",
    "version": 3
   },
   "file_extension": ".py",
   "mimetype": "text/x-python",
   "name": "python",
   "nbconvert_exporter": "python",
   "pygments_lexer": "ipython3",
   "version": "3.11.9"
  }
 },
 "nbformat": 4,
 "nbformat_minor": 5
}
